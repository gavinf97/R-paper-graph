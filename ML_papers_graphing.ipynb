{
 "cells": [
  {
   "cell_type": "code",
   "execution_count": 2,
   "metadata": {},
   "outputs": [
    {
     "data": {
      "application/vnd.jupyter.widget-view+json": {
       "model_id": "be2b129147614eeda221521b0b3e916b",
       "version_major": 2,
       "version_minor": 0
      },
      "text/plain": [
       "Text(value='', description='Query:', placeholder='Enter your query')"
      ]
     },
     "metadata": {},
     "output_type": "display_data"
    },
    {
     "data": {
      "application/vnd.jupyter.widget-view+json": {
       "model_id": "38ad99a5c3d148cda211726347eee768",
       "version_major": 2,
       "version_minor": 0
      },
      "text/plain": [
       "Output()"
      ]
     },
     "metadata": {},
     "output_type": "display_data"
    }
   ],
   "source": [
    "# Script allows simple user input for quear text to get number of hits\n",
    "# The hits are recorded from 2000-2025 and saved to a CSV file\n",
    "# CSV output is saved to query_results.csv\n",
    "\n",
    "# Import necessary libraries\n",
    "import requests\n",
    "import csv\n",
    "from datetime import datetime\n",
    "from IPython.display import display\n",
    "import ipywidgets as widgets\n",
    "\n",
    "# Function to perform Europe PMC query\n",
    "def europe_pmc_query(query, year):\n",
    "    url = f'https://www.ebi.ac.uk/europepmc/webservices/rest/search?query={query} AND PUB_YEAR:{year}&format=json'\n",
    "    response = requests.get(url)\n",
    "    data = response.json()\n",
    "    return data['hitCount']\n",
    "\n",
    "# Create a text input widget\n",
    "query_input = widgets.Text(\n",
    "    value='',\n",
    "    placeholder='Enter your query',\n",
    "    description='Query:',\n",
    "    disabled=False\n",
    ")\n",
    "\n",
    "# Create an output widget\n",
    "output = widgets.Output()\n",
    "\n",
    "# Function to handle query submission\n",
    "def on_submit(change):\n",
    "    with output:\n",
    "        output.clear_output()\n",
    "        query = query_input.value\n",
    "        current_year = datetime.now().year\n",
    "        results = []\n",
    "        total_hits = 0\n",
    "        for year in range(2000, current_year + 1):\n",
    "            hit_count = europe_pmc_query(query, year)\n",
    "            results.append({'Year': year, 'Hits': hit_count})\n",
    "            total_hits += hit_count\n",
    "        results.append({'Year': 'Total', 'Hits': total_hits})\n",
    "        # Print results\n",
    "        for result in results:\n",
    "            print(f\"{result['Year']}: {result['Hits']}\")\n",
    "        # Save results to CSV\n",
    "        with open('query_results.csv', 'w', newline='') as csvfile:\n",
    "            fieldnames = ['Year', 'Hits']\n",
    "            writer = csv.DictWriter(csvfile, fieldnames=fieldnames)\n",
    "            writer.writeheader()\n",
    "            writer.writerows(results)\n",
    "        print('Results saved to query_results.csv')\n",
    "\n",
    "# Attach the submit event to the input widget\n",
    "query_input.on_submit(on_submit)\n",
    "\n",
    "# Display the widgets\n",
    "display(query_input, output)\n"
   ]
  }
 ],
 "metadata": {
  "kernelspec": {
   "display_name": "base",
   "language": "python",
   "name": "python3"
  },
  "language_info": {
   "codemirror_mode": {
    "name": "ipython",
    "version": 3
   },
   "file_extension": ".py",
   "mimetype": "text/x-python",
   "name": "python",
   "nbconvert_exporter": "python",
   "pygments_lexer": "ipython3",
   "version": "3.12.7"
  }
 },
 "nbformat": 4,
 "nbformat_minor": 2
}
